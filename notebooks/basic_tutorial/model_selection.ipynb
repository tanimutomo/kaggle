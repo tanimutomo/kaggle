{
 "cells": [
  {
   "cell_type": "markdown",
   "metadata": {},
   "source": [
    "# Select the Model"
   ]
  },
  {
   "cell_type": "code",
   "execution_count": 13,
   "metadata": {},
   "outputs": [],
   "source": [
    "import pickle\n",
    "import numpy as np\n",
    "import warnings\n",
    "warnings.filterwarnings(\"ignore\")"
   ]
  },
  {
   "cell_type": "code",
   "execution_count": 14,
   "metadata": {},
   "outputs": [],
   "source": [
    "# modeling\n",
    "from sklearn.neighbors import KNeighborsClassifier\n",
    "from sklearn.tree import DecisionTreeClassifier\n",
    "from sklearn.ensemble import RandomForestClassifier\n",
    "from sklearn.naive_bayes import GaussianNB\n",
    "from sklearn.svm import SVC\n",
    "from sklearn.linear_model import LogisticRegression\n",
    "from sklearn.model_selection import train_test_split\n",
    "from sklearn.linear_model import SGDClassifier"
   ]
  },
  {
   "cell_type": "code",
   "execution_count": 15,
   "metadata": {},
   "outputs": [],
   "source": [
    "with open('./data/train.pkl', mode='rb') as f:\n",
    "    train = pickle.load(f)\n",
    "with open('./data/test.pkl', mode='rb') as f:\n",
    "    test = pickle.load(f)"
   ]
  },
  {
   "cell_type": "code",
   "execution_count": 16,
   "metadata": {},
   "outputs": [
    {
     "data": {
      "text/plain": [
       "((668, 7), (668,), (223, 7), (223,))"
      ]
     },
     "execution_count": 16,
     "metadata": {},
     "output_type": "execute_result"
    }
   ],
   "source": [
    "test_passengerid = test['PassengerId']\n",
    "test = test.drop(['PassengerId'],axis=1)\n",
    "x = train.drop(['Survived'], axis=1)\n",
    "y = train['Survived']\n",
    "xtrain,xtest, ytrain,ytest = train_test_split(x,\n",
    "    y,test_size = 0.25, random_state = 123)\n",
    "\n",
    "xtrain.shape, ytrain.shape, xtest.shape, ytest.shape"
   ]
  },
  {
   "cell_type": "code",
   "execution_count": 17,
   "metadata": {},
   "outputs": [],
   "source": [
    "# 1. K-fold Classifier\n",
    "from sklearn.model_selection import KFold\n",
    "from sklearn.model_selection import cross_val_score\n",
    "k_fold = KFold(n_splits=10, shuffle=True, random_state=123)\n",
    "scoring = 'accuracy'"
   ]
  },
  {
   "cell_type": "code",
   "execution_count": 18,
   "metadata": {},
   "outputs": [
    {
     "name": "stdout",
     "output_type": "stream",
     "text": [
      "K-fold score :  [0.67164179 0.74626866 0.76119403 0.74626866 0.79104478 0.70149254\n",
      " 0.86567164 0.68656716 0.66666667 0.75757576]\n",
      "Average Accuracy  : 73.94\n"
     ]
    }
   ],
   "source": [
    "# K Nearest Neighbor\n",
    "clf = KNeighborsClassifier(n_neighbors = 10) \n",
    "score = cross_val_score(clf, xtrain, ytrain, cv=k_fold, n_jobs=1, scoring=scoring)\n",
    "print('K-fold score : ' ,score)\n",
    "\n",
    "print('Average Accuracy  :' , round(np.mean(score)*100, 2))"
   ]
  },
  {
   "cell_type": "code",
   "execution_count": 19,
   "metadata": {},
   "outputs": [
    {
     "name": "stdout",
     "output_type": "stream",
     "text": [
      "[0.80597015 0.73134328 0.76119403 0.74626866 0.74626866 0.88059701\n",
      " 0.7761194  0.8358209  0.81818182 0.78787879]\n",
      "Average Accuracy : 78.9\n"
     ]
    }
   ],
   "source": [
    "# 2. Decision Tree \n",
    "clf = DecisionTreeClassifier()\n",
    "DecisionTreeClassifier(class_weight=None, criterion='gini', max_depth=None,\n",
    "            max_features=None, max_leaf_nodes=None,\n",
    "            min_impurity_decrease=0.0, min_impurity_split=None,\n",
    "            min_samples_leaf=1, min_samples_split=2,\n",
    "            min_weight_fraction_leaf=0.0, presort=False, random_state=None,\n",
    "            splitter='best')\n",
    "score = cross_val_score(clf, xtrain, ytrain, cv=10, n_jobs=1, scoring=scoring)\n",
    "print(score)\n",
    "\n",
    "print('Average Accuracy :' , round(np.mean(score)*100, 2))"
   ]
  },
  {
   "cell_type": "code",
   "execution_count": 20,
   "metadata": {},
   "outputs": [
    {
     "name": "stdout",
     "output_type": "stream",
     "text": [
      "[0.82089552 0.76119403 0.74626866 0.79104478 0.76119403 0.85074627\n",
      " 0.79104478 0.86567164 0.87878788 0.78787879]\n",
      "Average Accuracy : 80.55\n"
     ]
    }
   ],
   "source": [
    "# 3. Random Forest\n",
    "# I used 20 decision tree\n",
    "clf = RandomForestClassifier(n_estimators=20, random_state = 101) \n",
    "score = cross_val_score(clf, xtrain, ytrain, cv=10, n_jobs=1, scoring=scoring)\n",
    "print(score)\n",
    "print('Average Accuracy :' , round(np.mean(score)*100, 2))"
   ]
  },
  {
   "cell_type": "code",
   "execution_count": 21,
   "metadata": {},
   "outputs": [
    {
     "name": "stdout",
     "output_type": "stream",
     "text": [
      "[0.7761194  0.85074627 0.73134328 0.73134328 0.74626866 0.8358209\n",
      " 0.79104478 0.86567164 0.83333333 0.81818182]\n",
      "Average Accuracy : 79.8\n"
     ]
    }
   ],
   "source": [
    "# 4. Naive Bayes\n",
    "\n",
    "clf = GaussianNB()\n",
    "score = cross_val_score(clf, xtrain, ytrain, cv=10, n_jobs=1, scoring=scoring)\n",
    "print(score)\n",
    "print('Average Accuracy :' , round(np.mean(score)*100, 2))"
   ]
  },
  {
   "cell_type": "code",
   "execution_count": 22,
   "metadata": {},
   "outputs": [
    {
     "name": "stdout",
     "output_type": "stream",
     "text": [
      "[0.76119403 0.82089552 0.73134328 0.73134328 0.73134328 0.82089552\n",
      " 0.80597015 0.8358209  0.77272727 0.75757576]\n",
      "Average Accuracy : 77.69\n"
     ]
    }
   ],
   "source": [
    "# 5. SVM\n",
    "clf = SVC()\n",
    "score = cross_val_score(clf, xtrain, ytrain, cv=10, n_jobs=1, scoring=scoring)\n",
    "print(score)\n",
    "print('Average Accuracy :' , round(np.mean(score)*100, 2))"
   ]
  },
  {
   "cell_type": "code",
   "execution_count": 23,
   "metadata": {},
   "outputs": [
    {
     "name": "stdout",
     "output_type": "stream",
     "text": [
      "[0.80597015 0.82089552 0.79104478 0.68656716 0.74626866 0.85074627\n",
      " 0.85074627 0.82089552 0.78787879 0.81818182]\n",
      "Average Accuracy : 79.79\n"
     ]
    }
   ],
   "source": [
    "# 6. Logistic Regression\n",
    "\n",
    "clf = LogisticRegression()\n",
    "score = cross_val_score(clf, xtrain, ytrain, cv=10, n_jobs=1, scoring=scoring)\n",
    "print(score)\n",
    "print('Average Accuracy :' , round(np.mean(score)*100, 2))"
   ]
  },
  {
   "cell_type": "code",
   "execution_count": 24,
   "metadata": {},
   "outputs": [
    {
     "name": "stdout",
     "output_type": "stream",
     "text": [
      "[0.89552239 0.86567164 0.80597015 0.7761194  0.79104478 0.88059701\n",
      " 0.89552239 0.88059701 0.83333333 0.81818182]\n",
      "Average Accuracy : 84.43\n"
     ]
    }
   ],
   "source": [
    "# 7. XGBOOST\n",
    "\n",
    "from xgboost import XGBClassifier\n",
    "clf = XGBClassifier()\n",
    "score = cross_val_score(clf, xtrain, ytrain, cv=10, n_jobs=-1, scoring=scoring)\n",
    "print(score)\n",
    "print('Average Accuracy :' , round(np.mean(score)*100, 2))"
   ]
  },
  {
   "cell_type": "markdown",
   "metadata": {},
   "source": [
    "### XGBoost has achieved the highest accuray"
   ]
  }
 ],
 "metadata": {
  "kernelspec": {
   "display_name": "Python 3",
   "language": "python",
   "name": "python3"
  },
  "language_info": {
   "codemirror_mode": {
    "name": "ipython",
    "version": 3
   },
   "file_extension": ".py",
   "mimetype": "text/x-python",
   "name": "python",
   "nbconvert_exporter": "python",
   "pygments_lexer": "ipython3",
   "version": "3.6.8"
  }
 },
 "nbformat": 4,
 "nbformat_minor": 2
}
